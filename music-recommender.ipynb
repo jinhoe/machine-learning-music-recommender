{
 "cells": [
  {
   "cell_type": "code",
   "execution_count": 18,
   "id": "27bc867f",
   "metadata": {},
   "outputs": [
    {
     "data": {
      "text/plain": [
       "1.0"
      ]
     },
     "execution_count": 18,
     "metadata": {},
     "output_type": "execute_result"
    }
   ],
   "source": [
    "import pandas as pd\n",
    "from sklearn.tree import DecisionTreeClassifier # Package > module > class\n",
    "from sklearn.model_selection import train_test_split # Train dataset\n",
    "from sklearn.metrics import accuracy_score\n",
    "\n",
    "music_data = pd.read_csv('music.csv')\n",
    "X = music_data.drop(columns=['genre']) # Uppercase X represent input data\n",
    "y = music_data['genre'] # Lowercase y represent output data\n",
    "X_train, X_test, y_train, y_test = train_test_split(X, y, test_size=0.2) # This function returns a tuple\n",
    "\n",
    "model = DecisionTreeClassifier() # Create model\n",
    "model.fit(X_train, y_train) # input and output\n",
    "# predictions = model.predict([ [21, 1], [22, 0] ]) # 21 yrs old male & 22 yrs old female\n",
    "predictions = model.predict(X_test)\n",
    "\n",
    "score = accuracy_score(y_test, predictions) # Return value between 0 to 1\n",
    "score"
   ]
  }
 ],
 "metadata": {
  "kernelspec": {
   "display_name": "Python 3 (ipykernel)",
   "language": "python",
   "name": "python3"
  },
  "language_info": {
   "codemirror_mode": {
    "name": "ipython",
    "version": 3
   },
   "file_extension": ".py",
   "mimetype": "text/x-python",
   "name": "python",
   "nbconvert_exporter": "python",
   "pygments_lexer": "ipython3",
   "version": "3.9.7"
  }
 },
 "nbformat": 4,
 "nbformat_minor": 5
}
